{
 "cells": [
  {
   "cell_type": "markdown",
   "metadata": {},
   "source": [
    "# ch1 起步"
   ]
  },
  {
   "cell_type": "markdown",
   "metadata": {},
   "source": [
    "## 在 OS X 系统中搭建 Python 编程环境\n",
    "\n",
    "退出 Python 并返回到终端窗口 \n",
    "\n",
    "- `Ctrl + D` 或者 `exit()`\n",
    "\n",
    "配置 Sublime Text 并使其使用 Python 3\n",
    "\n",
    "- 获取 Python 解释器的完整路劲\n",
    "    - `type -a python3` \n",
    "- 启动 Sublime Text， 选择菜单 Tools - Build System - New Build System\n",
    "    - 删除其中的内容\n",
    "    - 输入\n",
    "    ```\n",
    "    {\n",
    "        \"cmd\": [\"/usr/local/bin/python3\", \"-u\", \"$file\"],\n",
    "    }\n",
    "    ```\n",
    "    - 将配置文件命名为 Python.sublime-build,并保存到默认打开的目录\n",
    "    \n",
    "运行 Hello Wolrd 程序\n",
    "\n",
    "- 新建项目文件夹 python_work(小写 + 下划线）\n",
    "- Sublime Text 的 Tools - Build System 选择 Python3\n",
    "- Tools - Build 或者 `Ctrl + B` 运行程序"
   ]
  },
  {
   "cell_type": "code",
   "execution_count": 2,
   "metadata": {},
   "outputs": [
    {
     "name": "stdout",
     "output_type": "stream",
     "text": [
      "Hello Python world!\n"
     ]
    }
   ],
   "source": [
    "print(\"Hello Python world!\")"
   ]
  },
  {
   "cell_type": "markdown",
   "metadata": {},
   "source": [
    "## 动手试一试\n",
    "\n",
    "- 1.1 http://python.org\n",
    "- 1.2 输入错误练习\n",
    "- 1.3 无穷的技艺\n",
    "    - 如果我编程技艺无穷，我打算开发什么样的程序？\n",
    "        - 个人作品集的 Blog\n",
    "        - 玩音乐的网页，像 AbletonLive 的学音乐程序那样的\n",
    "        - 帮助我处理日常工作的小机器人助理"
   ]
  },
  {
   "cell_type": "code",
   "execution_count": null,
   "metadata": {},
   "outputs": [],
   "source": []
  }
 ],
 "metadata": {
  "kernelspec": {
   "display_name": "Python 3",
   "language": "python",
   "name": "python3"
  },
  "language_info": {
   "codemirror_mode": {
    "name": "ipython",
    "version": 3
   },
   "file_extension": ".py",
   "mimetype": "text/x-python",
   "name": "python",
   "nbconvert_exporter": "python",
   "pygments_lexer": "ipython3",
   "version": "3.6.0"
  }
 },
 "nbformat": 4,
 "nbformat_minor": 2
}
